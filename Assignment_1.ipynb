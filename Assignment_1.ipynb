{
 "cells": [
  {
   "cell_type": "markdown",
   "id": "905910fe",
   "metadata": {},
   "source": [
    "# 1. In the below elements which of them are values or an expression? eg:- values can be integer or string and expressions will be mathematical operators."
   ]
  },
  {
   "cell_type": "markdown",
   "id": "36dbec21",
   "metadata": {},
   "source": [
    "1. \"*\"    :expression\n",
    "2. 'hello':value\n",
    "3. -87.8  :value\n",
    "4. -      :expression\n",
    "5. /      :expression\n",
    "6. +      :expression\n",
    "7. 6      :value"
   ]
  },
  {
   "cell_type": "markdown",
   "id": "c8fdff20",
   "metadata": {},
   "source": [
    "# Difference between \"string\" and \"variable\""
   ]
  },
  {
   "cell_type": "markdown",
   "id": "1dadd76b",
   "metadata": {},
   "source": [
    "A string is a data type used to represent a sequence of characters. It can contain letters, numbers, symbols, and whitespace whereas variables are used to hold different types of data, including strings, numbers, objects, and more. They provide a way to refer to and modify data throughout the program."
   ]
  },
  {
   "cell_type": "markdown",
   "id": "ea221cfe",
   "metadata": {},
   "source": [
    "Describe three different data types."
   ]
  },
  {
   "cell_type": "markdown",
   "id": "b7eb69ef",
   "metadata": {},
   "source": [
    "1.Integer: Represents whole numbers without decimal points.\n",
    "  ex. int age=35\n",
    " \n",
    "2.String: Represents a sequence of characters.\n",
    "  ex. str name=\"Samira\"\n",
    "  \n",
    "3.Floating-Point: Represents numbers with decimal points (real numbers).\n",
    "  ex. float marks=89.02"
   ]
  },
  {
   "cell_type": "markdown",
   "id": "0cd0ba61",
   "metadata": {},
   "source": [
    "# 4. What is an expression made up of? What do all expressions do?"
   ]
  },
  {
   "cell_type": "markdown",
   "id": "42fc3074",
   "metadata": {},
   "source": [
    "An expression in programming is a combination of values, variables, operators, and function calls that, when evaluated, produces a resulting value. Expressions are used to perform calculations, compare values, manipulate data, and more.Here's what expressions are typically made up of:\n",
    "\n",
    "1.Values and Variables: These are the fundamental building blocks of expressions. Values can be literals like numbers or strings, while variables hold values that can change during the program's execution.\n",
    "\n",
    "2.Operators: Operators are symbols or keywords that perform operations on one or more values or variables. They dictate how the values are combined or manipulated. Examples include arithmetic operators (+, -, *, /), comparison operators (==, !=, <, >, <=, >=), logical operators (&&, ||, !), etc.\n",
    "\n",
    "3.Function Calls: Functions are reusable blocks of code that perform specific tasks. A function call is an expression that invokes a function and potentially uses its return value.\n",
    "\n",
    "What expressions do:\n",
    "In programming, expressions are essential for performing computations and making decisions. For example, in an if statement, the expression within the parentheses determines whether the following code block should be executed. Similarly, expressions play a crucial role in mathematical calculations, data transformations, and more complex logic within programs."
   ]
  },
  {
   "cell_type": "markdown",
   "id": "8688cd6e",
   "metadata": {},
   "source": [
    "# 5. This assignment statements, like spam = 10. What is the difference between an expression and a statement?"
   ]
  },
  {
   "cell_type": "markdown",
   "id": "40b40e54",
   "metadata": {},
   "source": [
    "An expression is a combination of values, variables, operators, and function calls that can be evaluated to produce a single value. Expressions are used to compute and generate values. They can be used in various contexts where a value is expected, such as assignments, comparisons, function arguments, and more. Expressions themselves do not usually cause side effects or change the state of the program.A statement is a complete unit of code that performs an action or a series of actions.ex 2 + 3\n",
    "Statements are instructions that carry out specific tasks, such as assigning values, controlling program flow, looping, or defining functions and classes. Unlike expressions, statements do not necessarily produce a value, but they can cause side effects and change the state of the program.\n",
    "ex.x = 5\n",
    "   if y > 10:\n",
    "      print(\"Y is greater than 10\")\n",
    "The key difference between expressions and statements is that expressions have a value and can be used as part of larger expressions or assignments, while statements perform actions and control the flow of a program.\n",
    "\n",
    "In example, spam = 10 is an assignment statement. It assigns the value 10 to the variable spam. The right-hand side of the assignment (10) is an expression that evaluates to the value 10, and the statement itself changes the value of the variable spam."
   ]
  },
  {
   "cell_type": "markdown",
   "id": "132c48a3",
   "metadata": {},
   "source": [
    "# 6. After running the following code, what does the variable bacon contain?\n",
    "\n",
    "bacon = 22\n",
    "\n",
    "bacon + 1\n",
    "\n"
   ]
  },
  {
   "cell_type": "markdown",
   "id": "8b9a366c",
   "metadata": {},
   "source": [
    "==> 23"
   ]
  },
  {
   "cell_type": "markdown",
   "id": "f3838430",
   "metadata": {},
   "source": [
    "7. What should the values of the following two terms be?\n",
    "\n",
    "'spam' + 'spamspam'\n",
    "\n",
    "'spam' * 3\n"
   ]
  },
  {
   "cell_type": "markdown",
   "id": "d542f3a9",
   "metadata": {},
   "source": [
    "spamspamspam"
   ]
  },
  {
   "cell_type": "markdown",
   "id": "5a00983a",
   "metadata": {},
   "source": [
    "# 8. Why is eggs a valid variable name while 100 is invalid?"
   ]
  },
  {
   "cell_type": "markdown",
   "id": "255b12c3",
   "metadata": {},
   "source": [
    "One common rule is that variable names cannot start with a number. This is why \"100\" is considered an invalid variable name. Variable names are meant to help programmers understand the purpose or content of the variable, and starting with a number can be confusing and make the code less readable.\n",
    "On the other hand, \"eggs\" is a valid variable name because it starts with a letter. Letters are typically allowed as the first character of a variable name in most programming languages, making it more readable and informative."
   ]
  },
  {
   "cell_type": "markdown",
   "id": "2849477c",
   "metadata": {},
   "source": [
    "# 9. What three functions can be used to get the integer, floating-point number, or string version of a value?"
   ]
  },
  {
   "cell_type": "markdown",
   "id": "ff981d00",
   "metadata": {},
   "source": [
    "Integer Conversion Function:\n",
    "\n",
    "Function Name: int()\n",
    "Purpose: This function is used to convert a value to an integer (whole number).\n",
    "Example: int(\"5\") would convert the string \"5\" to the integer 5.\n",
    "Floating-Point Conversion Function:\n",
    "\n",
    "Function Name: float()\n",
    "Purpose: This function is used to convert a value to a floating-point number (a number with decimal points).\n",
    "Example: float(\"3.14\") would convert the string \"3.14\" to the floating-point number 3.14.\n",
    "String Conversion Function:\n",
    "\n",
    "Function Name: str()\n",
    "Purpose: This function is used to convert a value to a string (a sequence of characters).\n",
    "Example: str(42) would convert the integer 42 to the string \"42\"."
   ]
  },
  {
   "cell_type": "markdown",
   "id": "4510bf1e",
   "metadata": {},
   "source": [
    "# 10. Why does this expression cause an error? How can you fix it?\n",
    "'I have eaten ' + 99 + ' burritos.'\n",
    "\n"
   ]
  },
  {
   "cell_type": "markdown",
   "id": "14ef011a",
   "metadata": {},
   "source": [
    "In the expression, the + operator is used both for string concatenation and addition. When we try to concatenate a string with a number, the programming language might not know how to handle this combination of data types.\n",
    "\n",
    "To fix this error, we need to ensure that all the values we're concatenating are of the same data type, which in this case should be strings. You can achieve this by converting the numeric value to a string using the str() function before concatenation. Here's how you can fix the expression:\n",
    "'I have eaten ' + str(99) + ' burritos.'"
   ]
  },
  {
   "cell_type": "code",
   "execution_count": null,
   "id": "ba334552",
   "metadata": {},
   "outputs": [],
   "source": []
  }
 ],
 "metadata": {
  "kernelspec": {
   "display_name": "Python 3 (ipykernel)",
   "language": "python",
   "name": "python3"
  },
  "language_info": {
   "codemirror_mode": {
    "name": "ipython",
    "version": 3
   },
   "file_extension": ".py",
   "mimetype": "text/x-python",
   "name": "python",
   "nbconvert_exporter": "python",
   "pygments_lexer": "ipython3",
   "version": "3.9.7"
  }
 },
 "nbformat": 4,
 "nbformat_minor": 5
}
